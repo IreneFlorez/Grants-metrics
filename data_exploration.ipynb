{
 "cells": [
  {
   "cell_type": "code",
   "execution_count": null,
   "metadata": {},
   "outputs": [],
   "source": [
    "import pandas as pd\n",
    "import numpy as np\n",
    "from pandas import melt\n",
    "\n",
    "import plotly.graph_objs as go\n",
    "#from plotly.offline import download_plotlyjs, init_notebook_mode, plot, iplot\n",
    "\n",
    "import plotly.offline as ply\n",
    "ply.init_notebook_mode(connected=True)\n",
    "\n",
    "#colors for Sankey diagram\n",
    "#https://plotly.com/python/discrete-color/\n",
    "import plotly.express as px"
   ]
  },
  {
   "cell_type": "markdown",
   "metadata": {},
   "source": [
    "https://office.wikimedia.org/wiki/Quarters"
   ]
  },
  {
   "cell_type": "code",
   "execution_count": null,
   "metadata": {},
   "outputs": [],
   "source": [
    "all_funded = pd.read_csv('inputs/data-all-funded.csv')\n",
    "year_roll_up_df = pd.read_csv('inputs/year_roll_up.csv')"
   ]
  },
  {
   "cell_type": "code",
   "execution_count": null,
   "metadata": {},
   "outputs": [],
   "source": [
    "# clean all_funded\n",
    "\n",
    "#drop rows without USD amount\n",
    "df = all_funded[all_funded['USD over grant life'] != 0]\n",
    "df = df[df['USD over grant life'].notnull()]\n",
    "\n",
    "#include only Fiscal years ending 2008-2022\n",
    "df = df[(df['Fiscal year ending'] >= 2008) & (df['Fiscal year ending'] <= 2022)]\n",
    "\n",
    "#fix datatype for USD over grant life column\n",
    "df['USD over grant life'] = df['USD over grant life'].str.replace(',', '')\n",
    "df['USD over grant life'] = df['USD over grant life'].str.replace('$', '')\n",
    "df['USD over grant life'] = df['USD over grant life'].astype('float')\n",
    "\n",
    "#columns to datetime\n",
    "df['Approved on'] =  pd.to_datetime(df['Approved on'], errors = 'coerce')\n",
    "df['Executed on'] =  pd.to_datetime(df['Executed on'], errors = 'coerce')\n",
    "\n",
    "#create a column of count_prior_grants for each grantee\n",
    "df['grant_count'] = df.groupby('Grantee').cumcount() + 1\n",
    "df[\"total_grantee_grants\"] = df.groupby('Grantee') ['Approved on'].transform('count')+1 #to start the count at \n",
    "\n",
    "df['counter'] = range(len(df))\n",
    "\n",
    "#assign unique IDs\n",
    "df['id'] = df.groupby('Grantee').ngroup()"
   ]
  },
  {
   "cell_type": "code",
   "execution_count": null,
   "metadata": {},
   "outputs": [],
   "source": [
    "df['Fiscal year ending'].unique()"
   ]
  },
  {
   "cell_type": "code",
   "execution_count": null,
   "metadata": {},
   "outputs": [],
   "source": [
    "df['Program'].unique()\n",
    "grants_df = df[df['grant_count'] != 'Conference']"
   ]
  },
  {
   "cell_type": "code",
   "execution_count": null,
   "metadata": {},
   "outputs": [],
   "source": [
    "grants_df[grants_df['Fiscal year ending']==2020]['Program'].unique()"
   ]
  },
  {
   "cell_type": "code",
   "execution_count": null,
   "metadata": {},
   "outputs": [],
   "source": [
    "grants_df = df[df['Program'] != 'Conference']"
   ]
  },
  {
   "cell_type": "raw",
   "metadata": {},
   "source": [
    "#number of nonzeros in each column\n",
    "df.astype(bool).sum(axis=0)"
   ]
  },
  {
   "cell_type": "markdown",
   "metadata": {},
   "source": [
    "## What is the geo-distribution of new grantees over the years? "
   ]
  },
  {
   "cell_type": "code",
   "execution_count": null,
   "metadata": {},
   "outputs": [],
   "source": [
    "t = pd.pivot_table(data=df[df['grant_count'] == 1][['Fiscal year ending', 'Grantee', 'Country']], \n",
    "                   index='Country', columns='Fiscal year ending', aggfunc='count')#.reset_index().rename(columns={'Grantee': 'total_to_remove'})\n",
    "t.columns = t.columns.get_level_values(1)"
   ]
  },
  {
   "cell_type": "code",
   "execution_count": null,
   "metadata": {},
   "outputs": [],
   "source": [
    "t.to_csv('output/new_grantee_geo_distrib.csv', index=False)"
   ]
  },
  {
   "cell_type": "code",
   "execution_count": null,
   "metadata": {},
   "outputs": [],
   "source": [
    "t[[2017, 2018, 2019, 2020]].sort_values(by=[2017],ascending=False).head(5)"
   ]
  },
  {
   "cell_type": "markdown",
   "metadata": {},
   "source": [
    "### What percent of 2020 grantees had received a grant in a previous year?"
   ]
  },
  {
   "cell_type": "code",
   "execution_count": null,
   "metadata": {},
   "outputs": [],
   "source": [
    "#g_not_20 = df.loc[df['Fiscal year ending'] != 2020]\n",
    "g_not_20 = grants_df[(grants_df['Fiscal year ending'] != 2020) & (grants_df['Fiscal year ending'] != 2021)]\n",
    "#create df with unique grantees and years in which they had a grant, with each year's total $ awarded\n",
    "g_not_20_pv = g_not_20.pivot_table(index='Grantee', \n",
    "                      columns='Fiscal year ending', \n",
    "                      values='USD over grant life', \n",
    "                      aggfunc=np.sum).reset_index().rename_axis(None, axis=1)\n",
    "\n",
    "#create df with unique grantees and total amount received\n",
    "g_not_20_pv_simple = pd.pivot_table(data=g_not_20, index='Grantee', values='USD over grant life', aggfunc='sum').reset_index().rename(columns={'USD over grant life': 'total_usd'})\n",
    "\n",
    "#get list of 2020 unique grantees\n",
    "g20 = grants_df.loc[grants_df['Fiscal year ending'] == 2020]\n",
    "g20list = list(g20['Grantee'].unique())"
   ]
  },
  {
   "cell_type": "code",
   "execution_count": null,
   "metadata": {},
   "outputs": [],
   "source": [
    "# 2020 - What percent of 2020 grantees had received a grant in a previous year?\n",
    "#identify which 2020 grantees had received a grant in a previous year\n",
    "\n",
    "grantees_2020_that_received_prior_grant  = g_not_20_pv_simple[g_not_20_pv_simple['Grantee'].isin(g20list)]\n",
    "\n",
    "print('grantees_2020_that_received_prior_grant:', len(grantees_2020_that_received_prior_grant)) \n",
    "print('2020 Grantees:', len(g20list))\n",
    "print('2020 Grantees that received prior grants:', (len(grantees_2020_that_received_prior_grant)/len(g20list)*100), '%')"
   ]
  },
  {
   "cell_type": "markdown",
   "metadata": {},
   "source": [
    "## What is the percent of new grants over the last years?"
   ]
  },
  {
   "cell_type": "markdown",
   "metadata": {},
   "source": [
    "What percent of grants awarded to returning grantees?\n",
    "What is the percent of new grantee grants over the last three years?"
   ]
  },
  {
   "cell_type": "code",
   "execution_count": null,
   "metadata": {},
   "outputs": [],
   "source": [
    "total_grants = df.groupby('Fiscal year ending').size().to_frame().reset_index().rename(columns={0: 'total_granted'})\n",
    "unique_grantees = df.groupby('Fiscal year ending')['Grantee'].nunique().to_frame().reset_index().rename(columns={'Grantee': 'unique_grantees'})\n",
    "unique_new_grantees = df[df['grant_count'] == 1].groupby('Fiscal year ending')['Grantee'].nunique().to_frame().reset_index().rename(columns={'Grantee': 'unique_n_grantees'})\n",
    "\n",
    "#get a count of all grants awarded to a new grantee that has not received a grant in a previous year, not including those grantees that doubled up in their first\n",
    "#year and received a follow-up grant\n",
    "new_grantee_grants = pd.pivot_table(data=df[df['grant_count'] == 1], index='Fiscal year ending', values='counter', aggfunc='count').reset_index().rename(columns={'counter': 'total_n_grantee_grants'})\n",
    "\n",
    "#returning grantee       = a grantee that has previously, in any previous year, received a WMF grant (not including returns in the same initial new grant year)\n",
    "#returning grantee grant = a grant given to a grantee that has previously, in any previous year, received a WMF grant (not including returns in the same initial new grant year)\n",
    "#returning grants        = a grant given to a grantee that has previously, at any time, received a grant\n",
    "\n",
    "#new grantees that returned in the same year that should be removed from the count of returning grantees for that year\n",
    "#...because they were counted in the new grantees for that year\n",
    "#remove = df[((df[['Fiscal year ending', 'Grantee']].duplicated(keep=False)) & (df.loc[df['grant_count'] == 1].any(axis=1)))] #works only on python 3.5\n",
    "dupes_mask = df.duplicated(subset=['Fiscal year ending','Grantee'], keep=False)\n",
    "dupes = df[dupes_mask]\n",
    "remove = dupes[dupes['grant_count'] == 1]\n",
    "\n",
    "#get the number of returning grantees in year x minus the number of grantees that are returning in year x AND were also new that year \n",
    "#example: first grant in Jan and returned for a grant in June and October\n",
    "#because this grantee was counted in the number of new grantees, we don't count them as returning grantees for this year\n",
    "unique_returning_grantees = ((df[df['grant_count'] >= 2].groupby('Fiscal year ending')['Grantee'].nunique()) - (remove.groupby('Fiscal year ending')['Grantee'].nunique())).to_frame().reset_index().rename(columns={'Grantee': 'unique_r_grantees'})\n",
    "\n",
    "\n",
    "#create roll_up df combining the dfs above\n",
    "year_roll_up = total_grants.merge(unique_grantees, on='Fiscal year ending', how='left').merge(unique_new_grantees, on='Fiscal year ending', how='left').merge(unique_returning_grantees, on='Fiscal year ending', how='left')\n",
    "year_roll_up['n_grantee %'] = year_roll_up['unique_n_grantees'] / year_roll_up['unique_grantees']\n",
    "\n",
    "#get the number of grants given to returning grantees in year x minus the number of grants given to grantees that are returning in year x AND were also new that year \n",
    "#example: first grant in Jan and returned for a grant in June and October\n",
    "#because this grantee was counted in the number of new grantees, we don't count them as returning grantees for this year\n",
    "\n",
    "#get a count of all grants awarded to a grantee that has received more than 2 grants\n",
    "returning_grants = pd.pivot_table(data=df[df['grant_count'] >= 2], index='Fiscal year ending', values='counter', aggfunc='count').reset_index().rename(columns={'counter': 'total_returning_grants'})\n",
    "#get a count of all grants where the grantee and year are the same but one of those rows has a 1\n",
    "returning_grantee_grants_prep2 = pd.pivot_table(data=remove, index='Fiscal year ending', values='Grantee', aggfunc='count').reset_index().rename(columns={'Grantee': 'total_to_remove'})\n",
    "returning_grantee_grants_prep3 = returning_grants.merge(returning_grantee_grants_prep2, on='Fiscal year ending', how='left')\n",
    "\n",
    "returning_grantee_grants_prep3['total_r_grantee_grants'] = returning_grantee_grants_prep3['total_returning_grants']-returning_grantee_grants_prep3['total_to_remove']\n",
    "returning_grantee_grants = returning_grantee_grants_prep3[['Fiscal year ending','total_r_grantee_grants']]\n",
    "\n",
    "#grantees\n",
    "year_roll_up['r_grantee %'] = year_roll_up['unique_r_grantees'] / year_roll_up['unique_grantees']\n",
    "#grants\n",
    "year_roll_up = year_roll_up.merge(returning_grants, on='Fiscal year ending', how='left').merge(returning_grantee_grants, on='Fiscal year ending', how='left')\n",
    "year_roll_up = year_roll_up.merge(new_grantee_grants, on='Fiscal year ending', how='left')\n",
    "year_roll_up['r_grantee_grants %'] = year_roll_up['total_r_grantee_grants'] / year_roll_up['total_granted']\n",
    "year_roll_up['n_grantee_grants %'] = year_roll_up['total_n_grantee_grants'] / year_roll_up['total_granted']\n",
    "\n",
    "year_roll_up = year_roll_up.round(2)\n",
    "year_roll_up"
   ]
  },
  {
   "cell_type": "code",
   "execution_count": null,
   "metadata": {},
   "outputs": [],
   "source": [
    "#check data\n",
    "rgrantees_2017 = df[df['Fiscal year ending']==2017]\n",
    "rgrantees_2018 = df[df['Fiscal year ending']==2018]\n",
    "rgrantees_2019 = df[df['Fiscal year ending']==2019]"
   ]
  },
  {
   "cell_type": "code",
   "execution_count": null,
   "metadata": {},
   "outputs": [],
   "source": [
    "year_roll_up.to_csv('outputs/year_roll_up_df.csv', index=False)"
   ]
  },
  {
   "cell_type": "code",
   "execution_count": null,
   "metadata": {},
   "outputs": [],
   "source": [
    "#plot number of unique new grantees by year\n",
    "year_roll_up_df.plot(kind = 'bar', \n",
    "                     width=.75,\n",
    "                     x='Fiscal year ending', \n",
    "                     y='unique_n_grantees', \n",
    "                     color='Blue', \n",
    "                     legend=False\n",
    "                    );"
   ]
  },
  {
   "cell_type": "code",
   "execution_count": null,
   "metadata": {},
   "outputs": [],
   "source": [
    "#plot % of unique new grantees by year\n",
    "year_roll_up_df.plot(kind = 'bar', \n",
    "                     width=.75,\n",
    "                     x='Fiscal year ending', \n",
    "                     y='n_grantee %', \n",
    "                     color='Blue', \n",
    "                     legend=False\n",
    "                    );"
   ]
  },
  {
   "cell_type": "code",
   "execution_count": null,
   "metadata": {},
   "outputs": [],
   "source": [
    "#plot % of new grantees by year\n",
    "year_roll_up_df.plot(kind = 'bar', \n",
    "                     width=.75,\n",
    "                     x='Fiscal year ending', \n",
    "                     y='n_grantee_grants %', \n",
    "                     color='Blue', \n",
    "                     legend=False\n",
    "                    );"
   ]
  },
  {
   "cell_type": "code",
   "execution_count": null,
   "metadata": {},
   "outputs": [],
   "source": [
    "#plot % of new grantees by year for years 2017-2021\n",
    "year_roll_up_df[year_roll_up_df['Fiscal year ending'] >= 2017].plot(kind = 'bar', \n",
    "                                                                    width=.78,\n",
    "                                                                    x='Fiscal year ending', \n",
    "                                                                    y='n_grantee_grants %', \n",
    "                                                                    color='#2a9df4', \n",
    "                                                                    legend=False\n",
    "                                                                   );"
   ]
  },
  {
   "cell_type": "code",
   "execution_count": null,
   "metadata": {},
   "outputs": [],
   "source": [
    "returning_grantee_grants_max = pd.pivot_table(data=df[df['grant_count'] >= 2], index='Fiscal year ending', values='grant_count', aggfunc='max').reset_index().rename(columns={'grant_count': 'max_grants_received_to_date'})\n",
    "returning_grantee_grants_max"
   ]
  },
  {
   "cell_type": "markdown",
   "metadata": {},
   "source": [
    "## Number of Grants from outside established comms"
   ]
  },
  {
   "cell_type": "code",
   "execution_count": null,
   "metadata": {},
   "outputs": [],
   "source": [
    "grants_df.groupby(['Fiscal year ending', 'Community type'])['counter'].nunique().to_frame().rename(columns={'Counter': 'unique_grants'})"
   ]
  },
  {
   "cell_type": "code",
   "execution_count": null,
   "metadata": {},
   "outputs": [],
   "source": [
    "len(grants_df[grants_df['Fiscal year ending'] == 2020])"
   ]
  },
  {
   "cell_type": "markdown",
   "metadata": {},
   "source": [
    "## Number of Grantees from Emerging Communities"
   ]
  },
  {
   "cell_type": "code",
   "execution_count": null,
   "metadata": {},
   "outputs": [],
   "source": [
    "grants_df['Community type'].unique()"
   ]
  },
  {
   "cell_type": "code",
   "execution_count": null,
   "metadata": {
    "scrolled": true
   },
   "outputs": [],
   "source": [
    "grants_df.groupby(['Fiscal year ending', 'Community type'])['Grantee'].nunique().to_frame().rename(columns={'Grantee': 'unique_grantees'})"
   ]
  },
  {
   "cell_type": "code",
   "execution_count": null,
   "metadata": {},
   "outputs": [],
   "source": [
    "emerging_by_year_all = grants_df[grants_df['Community type'] == 'Emerging'].groupby('Fiscal year ending')['Grantee'].nunique().to_frame().reset_index().rename(columns={'Grantee': 'emerging_grantees'})\n",
    "outside_developed_all = grants_df[(grants_df['Community type'] != 'Developed')].groupby('Fiscal year ending')['Grantee'].nunique().to_frame().reset_index().rename(columns={'Grantee': 'emerging_grantees_outside_developed'})\n",
    "\n",
    "emerging_year_roll_up_all = unique_grantees.merge(emerging_by_year_all, on='Fiscal year ending', how='left')\n",
    "\n",
    "emerging_year_roll_up_all = emerging_year_roll_up_all.merge(outside_developed_all,on='Fiscal year ending', how='left')\n",
    "emerging_year_roll_up_all['emerging_%'] = emerging_year_roll_up_all['emerging_grantees'] / emerging_year_roll_up_all['unique_grantees']\n",
    "\n",
    "emerging_year_roll_up_all['outside_dev_%'] = emerging_year_roll_up_all['emerging_grantees_outside_developed'] / emerging_year_roll_up_all['unique_grantees']\n",
    "\n",
    "emerging_year_roll_up_all"
   ]
  },
  {
   "cell_type": "markdown",
   "metadata": {},
   "source": [
    "## Number of New Grantees from Emerging Communities"
   ]
  },
  {
   "cell_type": "code",
   "execution_count": null,
   "metadata": {},
   "outputs": [],
   "source": [
    "grants_df[grants_df['grant_count'] == 1].groupby(['Fiscal year ending', 'Community type'])['Grantee'].nunique().to_frame().rename(columns={'Grantee': 'unique_n_grantees'})"
   ]
  },
  {
   "cell_type": "code",
   "execution_count": null,
   "metadata": {},
   "outputs": [],
   "source": [
    "new = grants_df[grants_df['grant_count'] == 1]\n",
    "\n",
    "emerging_by_year = grants_df[grants_df['grant_count'] == 1][grants_df[grants_df['grant_count'] == 1]['Community type'] == 'Emerging'].groupby('Fiscal year ending')['Grantee'].nunique().to_frame().reset_index().rename(columns={'Grantee': 'emerging_n_grantees'})\n",
    "outside_developed_new = new[(new['Community type'] != 'Developed')].groupby('Fiscal year ending')['Grantee'].nunique().to_frame().reset_index().rename(columns={'Grantee': 'emerging_n_grantees_outside_developed'})\n",
    "emerging_year_roll_up = unique_new_grantees.merge(emerging_by_year, on='Fiscal year ending', how='left')\n",
    "\n",
    "emerging_year_roll_up = emerging_year_roll_up.merge(outside_developed_new,on='Fiscal year ending', how='left')\n",
    "emerging_year_roll_up['emerging_%'] = emerging_year_roll_up['emerging_n_grantees'] / emerging_year_roll_up['unique_n_grantees']\n",
    "\n",
    "emerging_year_roll_up['outside_dev_%'] = emerging_year_roll_up['emerging_n_grantees_outside_developed'] / emerging_year_roll_up['unique_n_grantees']\n",
    "\n",
    "emerging_year_roll_up"
   ]
  },
  {
   "cell_type": "markdown",
   "metadata": {},
   "source": [
    "## % of rapid grant grantees that recieved a rapid grant in the year prior"
   ]
  },
  {
   "cell_type": "code",
   "execution_count": null,
   "metadata": {},
   "outputs": [],
   "source": [
    "rapid_20 = grants_df[(grants_df['Program']=='Rapid') & (grants_df['Fiscal year ending']==2020)]\n",
    "rapid_19 = grants_df[(grants_df['Program']=='Rapid') & (grants_df['Fiscal year ending']==2019)]"
   ]
  },
  {
   "cell_type": "code",
   "execution_count": null,
   "metadata": {},
   "outputs": [],
   "source": [
    "r19list = list(rapid_19['Grantee'].unique())\n",
    "r_grantees_2020_that_received_prior_r_grant  = rapid_20[rapid_20['Grantee'].isin(r19list)]\n",
    "\n",
    "print('r_grantees_2020_that_received_prior_r_grant:', len(r_grantees_2020_that_received_prior_r_grant)) \n",
    "print('2019 rapid Grantees:', len(r19list))\n",
    "print('2020 rapid Grantees:', len(rapid_20['Grantee'].unique()))\n",
    "print('2020 R grant Grantees that received prior rapid grants in prior year:',(len(r_grantees_2020_that_received_prior_r_grant)/len(rapid_20['Grantee'].unique())*100), '%')"
   ]
  },
  {
   "cell_type": "markdown",
   "metadata": {},
   "source": [
    "### Average # of rapid grants received "
   ]
  },
  {
   "cell_type": "code",
   "execution_count": null,
   "metadata": {},
   "outputs": [],
   "source": [
    "#Average num of rapid grants received by grantees that receive rapid grants\n"
   ]
  },
  {
   "cell_type": "code",
   "execution_count": null,
   "metadata": {},
   "outputs": [],
   "source": [
    "#r_grants_received_by_grantee \n",
    "\n",
    "rgrbg = grants_df[grants_df['Program'] == 'Rapid'].groupby('Grantee').size().to_frame().reset_index().rename(columns={0: 'rapid_grants_received'})\n",
    "\n",
    "rgrbg.mean()"
   ]
  },
  {
   "cell_type": "code",
   "execution_count": null,
   "metadata": {},
   "outputs": [],
   "source": [
    "bins = [0, 1, 2, 3, 5, 10, 15, 20]\n",
    "s = pd.cut(rgrbg['rapid_grants_received'], bins=bins).value_counts()\n",
    "s"
   ]
  },
  {
   "cell_type": "markdown",
   "metadata": {},
   "source": [
    "## avg r_grants_received_by_grantee in 20'"
   ]
  },
  {
   "cell_type": "code",
   "execution_count": null,
   "metadata": {},
   "outputs": [],
   "source": [
    "\n",
    "\n",
    "twenty = grants_df[grants_df['Fiscal year ending'] == 2020]\n",
    "rgrbg_20 = twenty[twenty['Program'] == 'Rapid'].groupby('Grantee').size().to_frame().reset_index().rename(columns={0: 'rapid_grants_received'})\n",
    "\n",
    "rgrbg_20.mean()"
   ]
  },
  {
   "cell_type": "markdown",
   "metadata": {},
   "source": [
    "## Rapid Grants received by rapid grantees in 2020"
   ]
  },
  {
   "cell_type": "code",
   "execution_count": null,
   "metadata": {},
   "outputs": [],
   "source": [
    "#number of rapid grant grantees in 2020\n",
    "total_rgrbg_20 = len(rgrbg_20)\n",
    "total_rgrbg_20"
   ]
  },
  {
   "cell_type": "code",
   "execution_count": null,
   "metadata": {},
   "outputs": [],
   "source": [
    "rgrbg_20_receiving_multiple = len(rgrbg_20[rgrbg_20['rapid_grants_received'] >= 2])\n",
    "rgrbg_20_receiving_multiple"
   ]
  },
  {
   "cell_type": "code",
   "execution_count": null,
   "metadata": {},
   "outputs": [],
   "source": [
    "rgrbg_20_receiving_multiple/total_rgrbg_20"
   ]
  },
  {
   "cell_type": "markdown",
   "metadata": {},
   "source": [
    "## % of grantees who progress through the pipeline [rapid>project>SAPG/APG]"
   ]
  },
  {
   "cell_type": "code",
   "execution_count": null,
   "metadata": {},
   "outputs": [],
   "source": [
    "#2016 forward\n",
    "pipeline_df = df[df['Fiscal year ending'] >=2016]\n",
    "#do not include TPS, PEG, IEG, Partnership Grants\n",
    "exclude_pipeline = ['TPS', 'PEG', 'IEG', 'Partnership Grants']\n",
    "\n",
    "simple = exclude + ['']\n",
    "pipeline_df = pipeline_df[~pipeline_df['Program'].isin(exclude_pipeline)]\n",
    "\n",
    "#pivot df so that each grantee gets a single row\n",
    "pipeline_df['idx'] = pipeline_df.groupby('Grantee').cumcount()+1\n",
    "pipeline_pvdf = pipeline_df.pivot(index='Grantee',columns='idx')['Program']\n",
    "pipeline_pvdf = pd.DataFrame(ndf.to_records())\n",
    "pipeline_pvdf = pipeline_pvdf.apply(lambda x : x.name+\"_\"+ x)\n",
    "pipeline_pvdf['1'] = pipeline_pvdf['1'].str.split('\\_').str[-1].str.strip();"
   ]
  },
  {
   "cell_type": "code",
   "execution_count": null,
   "metadata": {},
   "outputs": [],
   "source": [
    "len(pipeline_df[pipeline_df.eq('APG').any(1)])"
   ]
  },
  {
   "cell_type": "code",
   "execution_count": null,
   "metadata": {},
   "outputs": [],
   "source": [
    "len(pipeline_df[pipeline_df.eq('SAPG').any(1)])"
   ]
  },
  {
   "cell_type": "code",
   "execution_count": null,
   "metadata": {},
   "outputs": [],
   "source": [
    "#create a sankey diagram\n",
    "#https://chart-studio.plotly.com/~alishobeiri/1591/plotly-sankey-diagrams/#/\n",
    "\n",
    "\n",
    "#projected mockup using random values\n",
    "\n",
    "#FYI: 3 grants of any kind (ex:conf, events, rapid, project) > Simple APG\n",
    "#include conference grants\n",
    "#2016 forward\n",
    "\n",
    "#do not include TPS, PEG, IEG, Partnership Grants\n",
    "#WMS wiki mania scholarships\n",
    "source = [0,0,0,0,0,0,       # Application          # target 1-7\n",
    "          1, 1,             # Rapid                 #target 8-9\n",
    "          2, 2,             # Project               #target 10-11\n",
    "          3,                # APG                   #target 12\n",
    "          4, 4, 4,          # SAPG                  #target 13-15\n",
    "          5,5,5,            #Conference             #target 16-18\n",
    "          6,6,              #WMS                    #target 19-21\n",
    "         #22,23,24,25,26,27,\n",
    "         ]          \n",
    "                            \n",
    "                             \n",
    "target = [1, 2, 3, 4, 5, 6,\n",
    "          7, 8, 9, 10, 11, 12, 13, 14, \n",
    "          15, 16, 17,18,19,\n",
    "          20,21,\n",
    "          \n",
    "]\n",
    "\n",
    "value = [484500, 468350, 355300, 306850, 339150, 145350, 371450,  # target 1-7\n",
    "         96900, 129200, \n",
    "         80750, 48450, \n",
    "         48450, \n",
    "         32300, 16150, 113050, \n",
    "         129200, 6460,700, \n",
    "         400,900,500                                              #target 19-21\n",
    "        ]\n",
    "\n",
    " \n",
    "            \n",
    "label = ['Application', #target 1\n",
    "         'Rapid', #target 2\n",
    "         'Project', #target 3\n",
    "         'APG', #target 4\n",
    "         'SAPG',#target 5\n",
    "         'Conference',#target 6\n",
    "         'WMS',#target 7\n",
    "         \n",
    "         '2_Rapid_Project', #target 8\n",
    "         '2_Rapid_SAPG',\n",
    "         \n",
    "         '2_Project_Rapid', #target 10\n",
    "         '2_Project_WMS',#target 11\n",
    "         \n",
    "         '2_APG_wikicite', #target 12\n",
    "         \n",
    "         '2_SAPG_wikicite',#SAPG > Wikicite #target 13\n",
    "         '2_SAPG_SAPG',#SAPG > SAPG #target 14\n",
    "         '2_SAPG_Conference',#SAPG > Conf #questions about which dept should be providing the grant; which affiliates are getting $ from which source\n",
    "         \n",
    "         '2_Conf_rapid',#Conf > rapid #target 16\n",
    "         '2_Conf_SAPG',#Conf > SAPG #target 17\n",
    "         '2_Conf_Conference',#Conf > conf #target 18\n",
    "         \n",
    "         '2_WMS_rapid',#WMS > Rapid #target 19\n",
    "         '2_WMS_project',#WMS > Project (kind of an edge-case?) #target 20\n",
    "         'wz'\n",
    "        ]\n",
    "\n",
    "link=dict(source=source, target=target, value=value)\n",
    "node=dict(label=label, pad=15, thickness=5)\n",
    "data=go.Sankey(link=link, node=node)\n",
    "#plot\n",
    "fig=go.Figure(data)\n",
    "fig.show()\n"
   ]
  },
  {
   "cell_type": "code",
   "execution_count": null,
   "metadata": {},
   "outputs": [],
   "source": [
    "#combine column values to create source to target df base\n",
    "z = pipeline_pvdf.copy()\n",
    "z['1'] =z['1'] +' '+ z['2']\n",
    "z['2'] =z['2'] +' '+ z['3']\n",
    "z['3'] =z['3'] +' '+ z['4']\n",
    "z['4'] =z['4'] +' '+ z['5']\n",
    "z['5'] =z['5'] +' '+ z['6']\n",
    "z['6'] =z['6'] +' '+ z['7']\n",
    "z['7'] =z['7'] +' '+ z['8']\n",
    "z['8'] =z['8'] +' '+ z['9']\n",
    "z['9'] =z['9'] +' '+ z['10']\n",
    "z['10'] =z['10'] +' '+ z['11']\n",
    "z['11'] =z['11'] +' '+ z['12']\n",
    "z['12'] =z['12'] +' '+ z['13']\n",
    "z['13'] =z['13'] +' '+ z['14']\n",
    "\n",
    "#unstack\n",
    "del z['Grantee']\n",
    "z = z.unstack().to_frame().reset_index()\n",
    "#select columns, split column & rename\n",
    "z = z[[0]]\n",
    "z[['source','dest']] = z[0].str.split(expand=True)\n",
    "z = z[['source','dest']]\n",
    "#drop rows with all NaNs\n",
    "z = z.dropna(how='all')\n",
    "#In order to create a sankey diagram we need the pairs and the corresponding counts.\n",
    "counts=z.groupby([\"source\", \"dest\"]).size().reset_index(name='counts')\n",
    "\n"
   ]
  },
  {
   "cell_type": "code",
   "execution_count": null,
   "metadata": {},
   "outputs": [],
   "source": [
    "past=counts['source'].tolist()\n",
    "\n",
    "#Plotly's sankey diagram API needs a list of all labels, and links connecting the sources to the targets.\n",
    "#Converting them to lists so that we can pass the indices to the API\n",
    "current=counts['dest'].tolist()\n",
    "unique_values=pd.unique(pd.concat((counts['source'],counts['dest']),axis=0)).tolist()\n",
    "\n",
    "past_indices=[unique_values.index(i) for i in past]\n",
    "current_indices=[unique_values.index(i) for i in current]\n",
    "#type(past)"
   ]
  },
  {
   "cell_type": "raw",
   "metadata": {},
   "source": [
    "#TODO handle colors such that each of the grants programs uses the same color in the chart\n",
    "programs = pipeline_pvdf['1'].unique().tolist()\n",
    "\n",
    "counts['node_color'] = np.nan\n",
    "counts.loc[counts['dest'].str.contains('Rapid'), 'node_color'] = '#f0ed30'\n",
    "counts.loc[counts['dest'].str.contains('APG|SAPG'), 'node_color'] = '##2CA02C' \n",
    "counts.loc[counts['dest'].str.contains('WMS'), 'node_color'] = '#30ddf0'\n",
    "counts.loc[counts['dest'].str.contains('Wikicite'), 'node_color'] = '#dd30f0'\n",
    "counts.loc[counts['dest'].str.contains('Conference'), 'node_color'] = '#f03046'\n",
    "counts.loc[counts['dest'].str.contains('Project'), 'node_color'] = '#ffa500'\n",
    "\n",
    "node_color_values=counts['node_color'].tolist()\n",
    "color_indices=[unique_values.index(i) for i in node_color_values]\n",
    "node_colors = color_indices"
   ]
  },
  {
   "cell_type": "code",
   "execution_count": null,
   "metadata": {},
   "outputs": [],
   "source": [
    "#handle colors\n",
    "\n",
    "#colors for Sankey diagram\n",
    "#https://plotly.com/python/discrete-color/\n",
    "\n",
    "colors = px.colors.qualitative.D3\n",
    "node_colors_mappings = dict([(node,np.random.choice(colors)) for node in all_nodes])\n",
    "node_colors = [node_colors_mappings[node] for node in all_nodes]\n",
    "#edge_colors = [node_colors_mappings[node] for node in programs]"
   ]
  },
  {
   "cell_type": "code",
   "execution_count": null,
   "metadata": {},
   "outputs": [],
   "source": [
    "data_trace = dict(\n",
    "    type='sankey',\n",
    "    #width = 1118,\n",
    "    #height = 772,\n",
    "    domain = dict(\n",
    "      x =  [0,1],\n",
    "      y =  [0,1]\n",
    "    ),\n",
    "    orientation = \"h\",\n",
    "    node = dict(\n",
    "      pad = 15,\n",
    "      thickness = 15,\n",
    "      line = dict(color = \"black\", width = 0.5),\n",
    "      label=unique_values,\n",
    "      #color =  \"red\",\n",
    "      #color =  node_colors,\n",
    "        color = node_color_values,\n",
    "    ),\n",
    "    link=dict(\n",
    "        source=past_indices,\n",
    "        target=current_indices,\n",
    "        value=counts['counts'],\n",
    "        #color = edge_colors,\n",
    "    ))\n",
    "\n",
    "layout =  dict(\n",
    "    height=1500,\n",
    "    #width=80,\n",
    "    title = \"Grantee Journey through Grants since 2016\",\n",
    "    font = dict(\n",
    "      size = 10\n",
    "    )\n",
    ")\n",
    "\n",
    "\n",
    "fig = dict(data=[data_trace], layout=layout)\n",
    "ply.iplot(fig, validate=False)\n"
   ]
  }
 ],
 "metadata": {
  "kernelspec": {
   "display_name": "Python 3",
   "language": "python",
   "name": "python3"
  },
  "language_info": {
   "codemirror_mode": {
    "name": "ipython",
    "version": 3
   },
   "file_extension": ".py",
   "mimetype": "text/x-python",
   "name": "python",
   "nbconvert_exporter": "python",
   "pygments_lexer": "ipython3",
   "version": "3.7.3"
  }
 },
 "nbformat": 4,
 "nbformat_minor": 4
}
